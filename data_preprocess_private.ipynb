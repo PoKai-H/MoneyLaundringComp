{
 "cells": [
  {
   "cell_type": "code",
   "execution_count": 2,
   "metadata": {},
   "outputs": [],
   "source": [
    "import pandas as pd\n",
    "import numpy as np"
   ]
  },
  {
   "cell_type": "code",
   "execution_count": 3,
   "metadata": {},
   "outputs": [],
   "source": [
    "ccba = pd.read_csv('/home/bill/moneylaundring/private_dataset/private_x_ccba_full_hashed.csv')\n",
    "cdtx = pd.read_csv('/home/bill/moneylaundring/private_dataset/private_x_cdtx0001_full_hashed.csv')\n",
    "custinfo = pd.read_csv('/home/bill/moneylaundring/private_dataset/private_x_custinfo_full_hashed.csv')\n",
    "dp = pd.read_csv('/home/bill/moneylaundring/private_dataset/private_x_dp_full_hashed.csv')\n",
    "remit = pd.read_csv('/home/bill/moneylaundring/private_dataset/private_x_remit1_full_hashed.csv')\n",
    "p_date = pd.read_csv('/home/bill/moneylaundring/private_dataset/private_x_alert_date.csv')\n",
    "t_date = pd.read_csv('/home/bill/moneylaundring/dataset/train_x_alert_date.csv')\n",
    "answer = pd.read_csv('/home/bill/moneylaundring/dataset/train_y_answer.csv')"
   ]
  },
  {
   "cell_type": "code",
   "execution_count": 4,
   "metadata": {},
   "outputs": [
    {
     "data": {
      "text/html": [
       "<div>\n",
       "<style scoped>\n",
       "    .dataframe tbody tr th:only-of-type {\n",
       "        vertical-align: middle;\n",
       "    }\n",
       "\n",
       "    .dataframe tbody tr th {\n",
       "        vertical-align: top;\n",
       "    }\n",
       "\n",
       "    .dataframe thead th {\n",
       "        text-align: right;\n",
       "    }\n",
       "</style>\n",
       "<table border=\"1\" class=\"dataframe\">\n",
       "  <thead>\n",
       "    <tr style=\"text-align: right;\">\n",
       "      <th></th>\n",
       "      <th>cycam</th>\n",
       "    </tr>\n",
       "    <tr>\n",
       "      <th>cust_id</th>\n",
       "      <th></th>\n",
       "    </tr>\n",
       "  </thead>\n",
       "  <tbody>\n",
       "    <tr>\n",
       "      <th>01b1735c3dbf0a35c1c989bb45434ce4326b365b73db0612190e56b2858e0184</th>\n",
       "      <td>120633.0</td>\n",
       "    </tr>\n",
       "    <tr>\n",
       "      <th>01c705b457297805c1c08137cb3adb164b8f393c265db2c3aff0a5484a703302</th>\n",
       "      <td>306239.0</td>\n",
       "    </tr>\n",
       "    <tr>\n",
       "      <th>035e2ebcd5c23f4dd0f1fc81a1fca8afd3121f7431bb585fa99c22e1a7164dba</th>\n",
       "      <td>1526090.0</td>\n",
       "    </tr>\n",
       "    <tr>\n",
       "      <th>0397056eb3652da244521539502ba1125c61c33c02a0084f9dae183bf6ae0508</th>\n",
       "      <td>411253.0</td>\n",
       "    </tr>\n",
       "    <tr>\n",
       "      <th>03e1bde277b33ccb68dc08cb120c761649622f44b0acc1fb284b7e1ef5ced626</th>\n",
       "      <td>20778.0</td>\n",
       "    </tr>\n",
       "    <tr>\n",
       "      <th>...</th>\n",
       "      <td>...</td>\n",
       "    </tr>\n",
       "    <tr>\n",
       "      <th>fd0ae9a4d32233ea311bd5ac65ed70bee5f1410f6e4d016602ef48f2cea62c0b</th>\n",
       "      <td>208728.0</td>\n",
       "    </tr>\n",
       "    <tr>\n",
       "      <th>fd18e359b0e0f16ba1f16c5aa76e5ef76064793b0ee00702a7018f53cbb41db3</th>\n",
       "      <td>824010.0</td>\n",
       "    </tr>\n",
       "    <tr>\n",
       "      <th>fd4620b0e018b626a0a5094bec42111466f2039fb8ea36a3090dcdeadc8389b0</th>\n",
       "      <td>104251.0</td>\n",
       "    </tr>\n",
       "    <tr>\n",
       "      <th>fe34196eeaa61e81640dc21024666e643d5b84734fdc6b67d909d57f652d7e03</th>\n",
       "      <td>413801.0</td>\n",
       "    </tr>\n",
       "    <tr>\n",
       "      <th>ff483c74ef2977bfcf04be0a79363af72d1812aac9ce1fcdf671b4433218f6ad</th>\n",
       "      <td>207836.0</td>\n",
       "    </tr>\n",
       "  </tbody>\n",
       "</table>\n",
       "<p>498 rows × 1 columns</p>\n",
       "</div>"
      ],
      "text/plain": [
       "                                                        cycam\n",
       "cust_id                                                      \n",
       "01b1735c3dbf0a35c1c989bb45434ce4326b365b73db061...   120633.0\n",
       "01c705b457297805c1c08137cb3adb164b8f393c265db2c...   306239.0\n",
       "035e2ebcd5c23f4dd0f1fc81a1fca8afd3121f7431bb585...  1526090.0\n",
       "0397056eb3652da244521539502ba1125c61c33c02a0084...   411253.0\n",
       "03e1bde277b33ccb68dc08cb120c761649622f44b0acc1f...    20778.0\n",
       "...                                                       ...\n",
       "fd0ae9a4d32233ea311bd5ac65ed70bee5f1410f6e4d016...   208728.0\n",
       "fd18e359b0e0f16ba1f16c5aa76e5ef76064793b0ee0070...   824010.0\n",
       "fd4620b0e018b626a0a5094bec42111466f2039fb8ea36a...   104251.0\n",
       "fe34196eeaa61e81640dc21024666e643d5b84734fdc6b6...   413801.0\n",
       "ff483c74ef2977bfcf04be0a79363af72d1812aac9ce1fc...   207836.0\n",
       "\n",
       "[498 rows x 1 columns]"
      ]
     },
     "execution_count": 4,
     "metadata": {},
     "output_type": "execute_result"
    }
   ],
   "source": [
    "ccba_merge = ccba.groupby('cust_id')\n",
    "new_ccba = ccba_merge['cycam'].max()\n",
    "new_ccba = pd.DataFrame(new_ccba)\n",
    "new_ccba"
   ]
  },
  {
   "cell_type": "code",
   "execution_count": 5,
   "metadata": {},
   "outputs": [],
   "source": [
    "cinfo_test = custinfo.merge(new_ccba, on='cust_id',how='outer')"
   ]
  },
  {
   "cell_type": "code",
   "execution_count": 6,
   "metadata": {},
   "outputs": [],
   "source": [
    "cinfo_test['cycam'].fillna(0,inplace=True)"
   ]
  },
  {
   "cell_type": "code",
   "execution_count": 7,
   "metadata": {},
   "outputs": [
    {
     "data": {
      "text/plain": [
       "alert_key          False\n",
       "cust_id            False\n",
       "risk_rank          False\n",
       "occupation_code    False\n",
       "total_asset        False\n",
       "AGE                False\n",
       "cycam              False\n",
       "dtype: bool"
      ]
     },
     "execution_count": 7,
     "metadata": {},
     "output_type": "execute_result"
    }
   ],
   "source": [
    "cinfo_test.isna().any()"
   ]
  },
  {
   "cell_type": "code",
   "execution_count": 8,
   "metadata": {},
   "outputs": [],
   "source": [
    "cinfo_test = cinfo_test.merge(p_date, on='alert_key')"
   ]
  },
  {
   "cell_type": "code",
   "execution_count": 9,
   "metadata": {},
   "outputs": [],
   "source": [
    "cdtx_test = pd.merge(cinfo_test, cdtx, left_on=['cust_id','date'], right_on=['cust_id','date'])\n",
    "dp_test = pd.merge(cinfo_test, dp, left_on=['cust_id','date'], right_on=['cust_id','tx_date'])\n",
    "remit_test = pd.merge(cinfo_test, remit, left_on=['cust_id','date'], right_on=['cust_id','trans_date'])"
   ]
  },
  {
   "cell_type": "code",
   "execution_count": 10,
   "metadata": {},
   "outputs": [],
   "source": [
    "def db_cr2num(row):\n",
    "    return 0 if row == 'DB' else 1"
   ]
  },
  {
   "cell_type": "code",
   "execution_count": 11,
   "metadata": {},
   "outputs": [],
   "source": [
    "dp_test['debit_credit'] = dp_test['debit_credit'].apply(db_cr2num)\n",
    "dp_test['fiscTxId'].fillna(-1,inplace=True)\n",
    "dp_test['txbranch'].fillna(-1,inplace=True)"
   ]
  },
  {
   "cell_type": "code",
   "execution_count": 12,
   "metadata": {},
   "outputs": [],
   "source": [
    "cdtx_test_new = cdtx_test[['alert_key','risk_rank','occupation_code','total_asset','AGE','country','cur_type','amt','cycam','date']]\n",
    "dp_test_new = dp_test[['alert_key','risk_rank','occupation_code','total_asset','AGE','debit_credit','tx_time','tx_type','tx_amt','exchg_rate','info_asset_code','fiscTxId','txbranch','cross_bank','ATM','cycam','date']]\n",
    "remit_test_new = remit_test[['alert_key','risk_rank','occupation_code','total_asset','AGE','trans_no','trade_amount_usd','cycam','date']]"
   ]
  },
  {
   "cell_type": "code",
   "execution_count": 13,
   "metadata": {},
   "outputs": [
    {
     "data": {
      "text/plain": [
       "alert_key          False\n",
       "risk_rank          False\n",
       "occupation_code    False\n",
       "total_asset        False\n",
       "AGE                False\n",
       "country            False\n",
       "cur_type           False\n",
       "amt                False\n",
       "cycam              False\n",
       "date               False\n",
       "dtype: bool"
      ]
     },
     "execution_count": 13,
     "metadata": {},
     "output_type": "execute_result"
    }
   ],
   "source": [
    "cdtx_test_new.isna().any()"
   ]
  },
  {
   "cell_type": "code",
   "execution_count": 15,
   "metadata": {},
   "outputs": [
    {
     "data": {
      "text/plain": [
       "alert_key          False\n",
       "risk_rank          False\n",
       "occupation_code    False\n",
       "total_asset        False\n",
       "AGE                False\n",
       "debit_credit       False\n",
       "tx_time            False\n",
       "tx_type            False\n",
       "tx_amt              True\n",
       "exchg_rate         False\n",
       "info_asset_code    False\n",
       "fiscTxId           False\n",
       "txbranch           False\n",
       "cross_bank         False\n",
       "ATM                False\n",
       "cycam              False\n",
       "date               False\n",
       "dtype: bool"
      ]
     },
     "execution_count": 15,
     "metadata": {},
     "output_type": "execute_result"
    }
   ],
   "source": [
    "dp_test_new.isna().any()"
   ]
  },
  {
   "cell_type": "code",
   "execution_count": 16,
   "metadata": {},
   "outputs": [
    {
     "name": "stderr",
     "output_type": "stream",
     "text": [
      "/tmp/ipykernel_13002/204289302.py:1: SettingWithCopyWarning: \n",
      "A value is trying to be set on a copy of a slice from a DataFrame\n",
      "\n",
      "See the caveats in the documentation: https://pandas.pydata.org/pandas-docs/stable/user_guide/indexing.html#returning-a-view-versus-a-copy\n",
      "  dp_test_new['tx_amt'].fillna(0,inplace=True)\n"
     ]
    }
   ],
   "source": [
    "dp_test_new['tx_amt'].fillna(0,inplace=True)"
   ]
  },
  {
   "cell_type": "code",
   "execution_count": 17,
   "metadata": {},
   "outputs": [
    {
     "data": {
      "text/plain": [
       "alert_key           False\n",
       "risk_rank           False\n",
       "occupation_code     False\n",
       "total_asset         False\n",
       "AGE                 False\n",
       "trans_no            False\n",
       "trade_amount_usd    False\n",
       "cycam               False\n",
       "date                False\n",
       "dtype: bool"
      ]
     },
     "execution_count": 17,
     "metadata": {},
     "output_type": "execute_result"
    }
   ],
   "source": [
    "remit_test_new.isna().any()"
   ]
  },
  {
   "cell_type": "code",
   "execution_count": 18,
   "metadata": {},
   "outputs": [],
   "source": [
    "cdtx_test_new.to_csv('/home/bill/moneylaundring/contest/processed_dataset/cdtx_test_private.csv',index=False)"
   ]
  },
  {
   "cell_type": "code",
   "execution_count": 19,
   "metadata": {},
   "outputs": [],
   "source": [
    "dp_test_new.to_csv('/home/bill/moneylaundring/contest/processed_dataset/dp_test_private.csv',index=False)\n",
    "remit_test_new.to_csv('/home/bill/moneylaundring/contest/processed_dataset/remit_test_private.csv',index=False)"
   ]
  }
 ],
 "metadata": {
  "kernelspec": {
   "display_name": "moneylaundring",
   "language": "python",
   "name": "python3"
  },
  "language_info": {
   "codemirror_mode": {
    "name": "ipython",
    "version": 3
   },
   "file_extension": ".py",
   "mimetype": "text/x-python",
   "name": "python",
   "nbconvert_exporter": "python",
   "pygments_lexer": "ipython3",
   "version": "3.10.8 (main, Nov 24 2022, 14:13:03) [GCC 11.2.0]"
  },
  "orig_nbformat": 4,
  "vscode": {
   "interpreter": {
    "hash": "e1f3c677c2d4c7a39031d80eea489745965d64e900ff6f66e2eb9b80cdb99d6c"
   }
  }
 },
 "nbformat": 4,
 "nbformat_minor": 2
}
