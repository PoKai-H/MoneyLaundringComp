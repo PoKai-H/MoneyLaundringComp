{
 "cells": [
  {
   "cell_type": "code",
   "execution_count": 1,
   "metadata": {},
   "outputs": [],
   "source": [
    "import pandas as pd\n",
    "import numpy as np\n",
    "import matplotlib.pyplot as plt"
   ]
  },
  {
   "cell_type": "code",
   "execution_count": 2,
   "metadata": {},
   "outputs": [],
   "source": [
    "ccba = pd.read_csv('/home/bill/moneylaundring/dataset/public_train_x_ccba_full_hashed.csv')\n",
    "cdtx = pd.read_csv('/home/bill/moneylaundring/dataset/public_train_x_cdtx0001_full_hashed.csv')\n",
    "custinfo = pd.read_csv('/home/bill/moneylaundring/dataset/public_train_x_custinfo_full_hashed.csv')\n",
    "dp = pd.read_csv('/home/bill/moneylaundring/dataset/public_train_x_dp_full_hashed.csv')\n",
    "remit = pd.read_csv('/home/bill/moneylaundring/dataset/public_train_x_remit1_full_hashed.csv')\n",
    "p_date = pd.read_csv('/home/bill/moneylaundring/dataset/public_x_alert_date.csv')\n",
    "t_date = pd.read_csv('/home/bill/moneylaundring/dataset/train_x_alert_date.csv')\n",
    "answer = pd.read_csv('/home/bill/moneylaundring/dataset/train_y_answer.csv')"
   ]
  },
  {
   "cell_type": "code",
   "execution_count": 3,
   "metadata": {},
   "outputs": [],
   "source": [
    "submit = pd.read_csv('/home/bill/moneylaundring/dataset/submit.csv')"
   ]
  },
  {
   "cell_type": "code",
   "execution_count": 4,
   "metadata": {},
   "outputs": [
    {
     "data": {
      "text/html": [
       "<div>\n",
       "<style scoped>\n",
       "    .dataframe tbody tr th:only-of-type {\n",
       "        vertical-align: middle;\n",
       "    }\n",
       "\n",
       "    .dataframe tbody tr th {\n",
       "        vertical-align: top;\n",
       "    }\n",
       "\n",
       "    .dataframe thead th {\n",
       "        text-align: right;\n",
       "    }\n",
       "</style>\n",
       "<table border=\"1\" class=\"dataframe\">\n",
       "  <thead>\n",
       "    <tr style=\"text-align: right;\">\n",
       "      <th></th>\n",
       "      <th>cycam</th>\n",
       "    </tr>\n",
       "    <tr>\n",
       "      <th>cust_id</th>\n",
       "      <th></th>\n",
       "    </tr>\n",
       "  </thead>\n",
       "  <tbody>\n",
       "    <tr>\n",
       "      <th>0015cc01f553512007705edf855baa16f1b57a16fb107e0882c5cb0535d297a5</th>\n",
       "      <td>134614.0</td>\n",
       "    </tr>\n",
       "    <tr>\n",
       "      <th>002d6bc6382e759c9a5b6bb2c8dda9add2f38cd87e10ca3efda9a312e97b342c</th>\n",
       "      <td>406614.0</td>\n",
       "    </tr>\n",
       "    <tr>\n",
       "      <th>002f13f534d0bd9fcc1848db3ff5c7b1179d117f8de8055b7394696b948ec9b4</th>\n",
       "      <td>314421.0</td>\n",
       "    </tr>\n",
       "    <tr>\n",
       "      <th>0031e83ddef78e57d17ac5dce088627b7745be8ff6cffcbc0a79aff9fedd93f0</th>\n",
       "      <td>202831.0</td>\n",
       "    </tr>\n",
       "    <tr>\n",
       "      <th>0032adaf4a8731b4d6a3fdcba32f9ebdcd336490eda155b9bc5d18de6b65f381</th>\n",
       "      <td>20238.0</td>\n",
       "    </tr>\n",
       "    <tr>\n",
       "      <th>...</th>\n",
       "      <td>...</td>\n",
       "    </tr>\n",
       "    <tr>\n",
       "      <th>ffa5bcc6f88df5c33e809da4daa54de0031803f37d8f114b0ce2a70519099edc</th>\n",
       "      <td>208683.0</td>\n",
       "    </tr>\n",
       "    <tr>\n",
       "      <th>ffae7fef923c78298cd647a3d573e48cc1404b07ac794a63f436399ceca4ed9d</th>\n",
       "      <td>208765.0</td>\n",
       "    </tr>\n",
       "    <tr>\n",
       "      <th>ffdbc1a5135cb6feddf7355e5656abf6973f21639c7b9b9c8a23f77a194369c9</th>\n",
       "      <td>203231.0</td>\n",
       "    </tr>\n",
       "    <tr>\n",
       "      <th>ffdd3f98b841d4d0ef58ad0d63abddac83ffb5babf973cae4f00fb64ba9b859a</th>\n",
       "      <td>1043907.0</td>\n",
       "    </tr>\n",
       "    <tr>\n",
       "      <th>ffeb846f2294ec4397f800736dc1e14eb754da5425398d9a3bb81469b764b16f</th>\n",
       "      <td>781570.0</td>\n",
       "    </tr>\n",
       "  </tbody>\n",
       "</table>\n",
       "<p>4745 rows × 1 columns</p>\n",
       "</div>"
      ],
      "text/plain": [
       "                                                        cycam\n",
       "cust_id                                                      \n",
       "0015cc01f553512007705edf855baa16f1b57a16fb107e0...   134614.0\n",
       "002d6bc6382e759c9a5b6bb2c8dda9add2f38cd87e10ca3...   406614.0\n",
       "002f13f534d0bd9fcc1848db3ff5c7b1179d117f8de8055...   314421.0\n",
       "0031e83ddef78e57d17ac5dce088627b7745be8ff6cffcb...   202831.0\n",
       "0032adaf4a8731b4d6a3fdcba32f9ebdcd336490eda155b...    20238.0\n",
       "...                                                       ...\n",
       "ffa5bcc6f88df5c33e809da4daa54de0031803f37d8f114...   208683.0\n",
       "ffae7fef923c78298cd647a3d573e48cc1404b07ac794a6...   208765.0\n",
       "ffdbc1a5135cb6feddf7355e5656abf6973f21639c7b9b9...   203231.0\n",
       "ffdd3f98b841d4d0ef58ad0d63abddac83ffb5babf973ca...  1043907.0\n",
       "ffeb846f2294ec4397f800736dc1e14eb754da5425398d9...   781570.0\n",
       "\n",
       "[4745 rows x 1 columns]"
      ]
     },
     "execution_count": 4,
     "metadata": {},
     "output_type": "execute_result"
    }
   ],
   "source": [
    "ccba_merge = ccba.groupby('cust_id')\n",
    "new_ccba = ccba_merge['cycam'].max()\n",
    "new_ccba = pd.DataFrame(new_ccba)\n",
    "new_ccba"
   ]
  },
  {
   "cell_type": "code",
   "execution_count": 5,
   "metadata": {},
   "outputs": [],
   "source": [
    "cinfo_train = custinfo.merge(new_ccba,on='cust_id',how='outer')\n",
    "cinfo_train = cinfo_train.merge(t_date, on='alert_key')\n",
    "cinfo_train = cinfo_train.merge(answer, on='alert_key')"
   ]
  },
  {
   "cell_type": "code",
   "execution_count": 68,
   "metadata": {},
   "outputs": [
    {
     "data": {
      "text/html": [
       "<div>\n",
       "<style scoped>\n",
       "    .dataframe tbody tr th:only-of-type {\n",
       "        vertical-align: middle;\n",
       "    }\n",
       "\n",
       "    .dataframe tbody tr th {\n",
       "        vertical-align: top;\n",
       "    }\n",
       "\n",
       "    .dataframe thead th {\n",
       "        text-align: right;\n",
       "    }\n",
       "</style>\n",
       "<table border=\"1\" class=\"dataframe\">\n",
       "  <thead>\n",
       "    <tr style=\"text-align: right;\">\n",
       "      <th></th>\n",
       "      <th>alert_key</th>\n",
       "      <th>cust_id</th>\n",
       "      <th>risk_rank</th>\n",
       "      <th>occupation_code</th>\n",
       "      <th>total_asset</th>\n",
       "      <th>AGE</th>\n",
       "      <th>cycam</th>\n",
       "      <th>date</th>\n",
       "      <th>sar_flag</th>\n",
       "    </tr>\n",
       "  </thead>\n",
       "  <tbody>\n",
       "    <tr>\n",
       "      <th>0</th>\n",
       "      <td>172802</td>\n",
       "      <td>82595ac69158ae08d34156784bdec0d9e2ca5b242b6d2a...</td>\n",
       "      <td>1</td>\n",
       "      <td>19.0</td>\n",
       "      <td>1449978.0</td>\n",
       "      <td>7</td>\n",
       "      <td>NaN</td>\n",
       "      <td>6</td>\n",
       "      <td>0</td>\n",
       "    </tr>\n",
       "    <tr>\n",
       "      <th>1</th>\n",
       "      <td>174202</td>\n",
       "      <td>82595ac69158ae08d34156784bdec0d9e2ca5b242b6d2a...</td>\n",
       "      <td>1</td>\n",
       "      <td>19.0</td>\n",
       "      <td>1449978.0</td>\n",
       "      <td>7</td>\n",
       "      <td>NaN</td>\n",
       "      <td>7</td>\n",
       "      <td>0</td>\n",
       "    </tr>\n",
       "    <tr>\n",
       "      <th>2</th>\n",
       "      <td>174952</td>\n",
       "      <td>82595ac69158ae08d34156784bdec0d9e2ca5b242b6d2a...</td>\n",
       "      <td>1</td>\n",
       "      <td>19.0</td>\n",
       "      <td>1449978.0</td>\n",
       "      <td>7</td>\n",
       "      <td>NaN</td>\n",
       "      <td>8</td>\n",
       "      <td>0</td>\n",
       "    </tr>\n",
       "    <tr>\n",
       "      <th>3</th>\n",
       "      <td>177764</td>\n",
       "      <td>82595ac69158ae08d34156784bdec0d9e2ca5b242b6d2a...</td>\n",
       "      <td>1</td>\n",
       "      <td>19.0</td>\n",
       "      <td>1449978.0</td>\n",
       "      <td>7</td>\n",
       "      <td>NaN</td>\n",
       "      <td>12</td>\n",
       "      <td>0</td>\n",
       "    </tr>\n",
       "    <tr>\n",
       "      <th>4</th>\n",
       "      <td>178768</td>\n",
       "      <td>82595ac69158ae08d34156784bdec0d9e2ca5b242b6d2a...</td>\n",
       "      <td>1</td>\n",
       "      <td>19.0</td>\n",
       "      <td>1449978.0</td>\n",
       "      <td>7</td>\n",
       "      <td>NaN</td>\n",
       "      <td>13</td>\n",
       "      <td>0</td>\n",
       "    </tr>\n",
       "    <tr>\n",
       "      <th>...</th>\n",
       "      <td>...</td>\n",
       "      <td>...</td>\n",
       "      <td>...</td>\n",
       "      <td>...</td>\n",
       "      <td>...</td>\n",
       "      <td>...</td>\n",
       "      <td>...</td>\n",
       "      <td>...</td>\n",
       "      <td>...</td>\n",
       "    </tr>\n",
       "    <tr>\n",
       "      <th>23901</th>\n",
       "      <td>351904</td>\n",
       "      <td>2a6c462095ed3a74cb1d5828ca65315cb5ef30a8b1ea54...</td>\n",
       "      <td>1</td>\n",
       "      <td>12.0</td>\n",
       "      <td>1454.0</td>\n",
       "      <td>5</td>\n",
       "      <td>519218.0</td>\n",
       "      <td>364</td>\n",
       "      <td>0</td>\n",
       "    </tr>\n",
       "    <tr>\n",
       "      <th>23902</th>\n",
       "      <td>351926</td>\n",
       "      <td>830b22ee65eef58b2d51d20143f7aeb1ef9bd00b8f0435...</td>\n",
       "      <td>1</td>\n",
       "      <td>9.0</td>\n",
       "      <td>87564.0</td>\n",
       "      <td>4</td>\n",
       "      <td>NaN</td>\n",
       "      <td>364</td>\n",
       "      <td>0</td>\n",
       "    </tr>\n",
       "    <tr>\n",
       "      <th>23903</th>\n",
       "      <td>351929</td>\n",
       "      <td>f0d7fb934f97688f16691d9aeb6db22db08e8f8a07e122...</td>\n",
       "      <td>1</td>\n",
       "      <td>4.0</td>\n",
       "      <td>1199.0</td>\n",
       "      <td>3</td>\n",
       "      <td>NaN</td>\n",
       "      <td>364</td>\n",
       "      <td>0</td>\n",
       "    </tr>\n",
       "    <tr>\n",
       "      <th>23904</th>\n",
       "      <td>352103</td>\n",
       "      <td>c71eff54ff8d901590eef33bc16dfddd93a2051d7acfe4...</td>\n",
       "      <td>1</td>\n",
       "      <td>19.0</td>\n",
       "      <td>441617.0</td>\n",
       "      <td>4</td>\n",
       "      <td>150623.0</td>\n",
       "      <td>364</td>\n",
       "      <td>0</td>\n",
       "    </tr>\n",
       "    <tr>\n",
       "      <th>23905</th>\n",
       "      <td>352111</td>\n",
       "      <td>67a8baafafecb5408944a7d089cda0168967144c1bd41f...</td>\n",
       "      <td>1</td>\n",
       "      <td>17.0</td>\n",
       "      <td>829412.0</td>\n",
       "      <td>6</td>\n",
       "      <td>523405.0</td>\n",
       "      <td>364</td>\n",
       "      <td>0</td>\n",
       "    </tr>\n",
       "  </tbody>\n",
       "</table>\n",
       "<p>23906 rows × 9 columns</p>\n",
       "</div>"
      ],
      "text/plain": [
       "       alert_key                                            cust_id  \\\n",
       "0         172802  82595ac69158ae08d34156784bdec0d9e2ca5b242b6d2a...   \n",
       "1         174202  82595ac69158ae08d34156784bdec0d9e2ca5b242b6d2a...   \n",
       "2         174952  82595ac69158ae08d34156784bdec0d9e2ca5b242b6d2a...   \n",
       "3         177764  82595ac69158ae08d34156784bdec0d9e2ca5b242b6d2a...   \n",
       "4         178768  82595ac69158ae08d34156784bdec0d9e2ca5b242b6d2a...   \n",
       "...          ...                                                ...   \n",
       "23901     351904  2a6c462095ed3a74cb1d5828ca65315cb5ef30a8b1ea54...   \n",
       "23902     351926  830b22ee65eef58b2d51d20143f7aeb1ef9bd00b8f0435...   \n",
       "23903     351929  f0d7fb934f97688f16691d9aeb6db22db08e8f8a07e122...   \n",
       "23904     352103  c71eff54ff8d901590eef33bc16dfddd93a2051d7acfe4...   \n",
       "23905     352111  67a8baafafecb5408944a7d089cda0168967144c1bd41f...   \n",
       "\n",
       "       risk_rank  occupation_code  total_asset  AGE     cycam  date  sar_flag  \n",
       "0              1             19.0    1449978.0    7       NaN     6         0  \n",
       "1              1             19.0    1449978.0    7       NaN     7         0  \n",
       "2              1             19.0    1449978.0    7       NaN     8         0  \n",
       "3              1             19.0    1449978.0    7       NaN    12         0  \n",
       "4              1             19.0    1449978.0    7       NaN    13         0  \n",
       "...          ...              ...          ...  ...       ...   ...       ...  \n",
       "23901          1             12.0       1454.0    5  519218.0   364         0  \n",
       "23902          1              9.0      87564.0    4       NaN   364         0  \n",
       "23903          1              4.0       1199.0    3       NaN   364         0  \n",
       "23904          1             19.0     441617.0    4  150623.0   364         0  \n",
       "23905          1             17.0     829412.0    6  523405.0   364         0  \n",
       "\n",
       "[23906 rows x 9 columns]"
      ]
     },
     "execution_count": 68,
     "metadata": {},
     "output_type": "execute_result"
    }
   ],
   "source": [
    "cinfo_train"
   ]
  },
  {
   "cell_type": "code",
   "execution_count": 6,
   "metadata": {},
   "outputs": [],
   "source": [
    "cinfo_train['cycam'].fillna(0,inplace=True)"
   ]
  },
  {
   "cell_type": "code",
   "execution_count": 7,
   "metadata": {},
   "outputs": [
    {
     "data": {
      "text/plain": [
       "alert_key          False\n",
       "cust_id            False\n",
       "risk_rank          False\n",
       "occupation_code     True\n",
       "total_asset        False\n",
       "AGE                False\n",
       "cycam              False\n",
       "date               False\n",
       "sar_flag           False\n",
       "dtype: bool"
      ]
     },
     "execution_count": 7,
     "metadata": {},
     "output_type": "execute_result"
    }
   ],
   "source": [
    "cinfo_train.isna().any()"
   ]
  },
  {
   "cell_type": "code",
   "execution_count": 8,
   "metadata": {},
   "outputs": [],
   "source": [
    "cinfo_train['occupation_code'].fillna(0,inplace=True)"
   ]
  },
  {
   "cell_type": "code",
   "execution_count": 21,
   "metadata": {},
   "outputs": [
    {
     "data": {
      "text/html": [
       "<div>\n",
       "<style scoped>\n",
       "    .dataframe tbody tr th:only-of-type {\n",
       "        vertical-align: middle;\n",
       "    }\n",
       "\n",
       "    .dataframe tbody tr th {\n",
       "        vertical-align: top;\n",
       "    }\n",
       "\n",
       "    .dataframe thead th {\n",
       "        text-align: right;\n",
       "    }\n",
       "</style>\n",
       "<table border=\"1\" class=\"dataframe\">\n",
       "  <thead>\n",
       "    <tr style=\"text-align: right;\">\n",
       "      <th></th>\n",
       "      <th>alert_key</th>\n",
       "      <th>probability</th>\n",
       "    </tr>\n",
       "  </thead>\n",
       "  <tbody>\n",
       "    <tr>\n",
       "      <th>0</th>\n",
       "      <td>357307</td>\n",
       "      <td>0.000017</td>\n",
       "    </tr>\n",
       "    <tr>\n",
       "      <th>1</th>\n",
       "      <td>376329</td>\n",
       "      <td>0.000324</td>\n",
       "    </tr>\n",
       "    <tr>\n",
       "      <th>2</th>\n",
       "      <td>373644</td>\n",
       "      <td>0.000372</td>\n",
       "    </tr>\n",
       "    <tr>\n",
       "      <th>3</th>\n",
       "      <td>357668</td>\n",
       "      <td>0.000489</td>\n",
       "    </tr>\n",
       "    <tr>\n",
       "      <th>4</th>\n",
       "      <td>354443</td>\n",
       "      <td>0.000526</td>\n",
       "    </tr>\n",
       "    <tr>\n",
       "      <th>...</th>\n",
       "      <td>...</td>\n",
       "      <td>...</td>\n",
       "    </tr>\n",
       "    <tr>\n",
       "      <th>3845</th>\n",
       "      <td>364485</td>\n",
       "      <td>0.997702</td>\n",
       "    </tr>\n",
       "    <tr>\n",
       "      <th>3846</th>\n",
       "      <td>363155</td>\n",
       "      <td>0.998987</td>\n",
       "    </tr>\n",
       "    <tr>\n",
       "      <th>3847</th>\n",
       "      <td>368710</td>\n",
       "      <td>0.999694</td>\n",
       "    </tr>\n",
       "    <tr>\n",
       "      <th>3848</th>\n",
       "      <td>358067</td>\n",
       "      <td>0.999821</td>\n",
       "    </tr>\n",
       "    <tr>\n",
       "      <th>3849</th>\n",
       "      <td>372119</td>\n",
       "      <td>0.999978</td>\n",
       "    </tr>\n",
       "  </tbody>\n",
       "</table>\n",
       "<p>3850 rows × 2 columns</p>\n",
       "</div>"
      ],
      "text/plain": [
       "      alert_key  probability\n",
       "0        357307     0.000017\n",
       "1        376329     0.000324\n",
       "2        373644     0.000372\n",
       "3        357668     0.000489\n",
       "4        354443     0.000526\n",
       "...         ...          ...\n",
       "3845     364485     0.997702\n",
       "3846     363155     0.998987\n",
       "3847     368710     0.999694\n",
       "3848     358067     0.999821\n",
       "3849     372119     0.999978\n",
       "\n",
       "[3850 rows x 2 columns]"
      ]
     },
     "execution_count": 21,
     "metadata": {},
     "output_type": "execute_result"
    }
   ],
   "source": [
    "submit"
   ]
  },
  {
   "cell_type": "code",
   "execution_count": 100,
   "metadata": {},
   "outputs": [],
   "source": [
    "cinfo_test = custinfo.merge(new_ccba, on='cust_id',how='outer')"
   ]
  },
  {
   "cell_type": "code",
   "execution_count": 101,
   "metadata": {},
   "outputs": [],
   "source": [
    "cinfo_test['cycam'].fillna(0,inplace=True)"
   ]
  },
  {
   "cell_type": "code",
   "execution_count": 102,
   "metadata": {},
   "outputs": [
    {
     "data": {
      "text/plain": [
       "alert_key          False\n",
       "cust_id            False\n",
       "risk_rank          False\n",
       "occupation_code     True\n",
       "total_asset        False\n",
       "AGE                False\n",
       "cycam              False\n",
       "dtype: bool"
      ]
     },
     "execution_count": 102,
     "metadata": {},
     "output_type": "execute_result"
    }
   ],
   "source": [
    "cinfo_test.isna().any()"
   ]
  },
  {
   "cell_type": "code",
   "execution_count": 93,
   "metadata": {},
   "outputs": [
    {
     "data": {
      "text/html": [
       "<div>\n",
       "<style scoped>\n",
       "    .dataframe tbody tr th:only-of-type {\n",
       "        vertical-align: middle;\n",
       "    }\n",
       "\n",
       "    .dataframe tbody tr th {\n",
       "        vertical-align: top;\n",
       "    }\n",
       "\n",
       "    .dataframe thead th {\n",
       "        text-align: right;\n",
       "    }\n",
       "</style>\n",
       "<table border=\"1\" class=\"dataframe\">\n",
       "  <thead>\n",
       "    <tr style=\"text-align: right;\">\n",
       "      <th></th>\n",
       "      <th>alert_key</th>\n",
       "      <th>date</th>\n",
       "    </tr>\n",
       "  </thead>\n",
       "  <tbody>\n",
       "    <tr>\n",
       "      <th>0</th>\n",
       "      <td>352342</td>\n",
       "      <td>365</td>\n",
       "    </tr>\n",
       "    <tr>\n",
       "      <th>1</th>\n",
       "      <td>352866</td>\n",
       "      <td>365</td>\n",
       "    </tr>\n",
       "    <tr>\n",
       "      <th>2</th>\n",
       "      <td>352696</td>\n",
       "      <td>365</td>\n",
       "    </tr>\n",
       "    <tr>\n",
       "      <th>3</th>\n",
       "      <td>352330</td>\n",
       "      <td>365</td>\n",
       "    </tr>\n",
       "    <tr>\n",
       "      <th>4</th>\n",
       "      <td>352683</td>\n",
       "      <td>365</td>\n",
       "    </tr>\n",
       "    <tr>\n",
       "      <th>...</th>\n",
       "      <td>...</td>\n",
       "      <td>...</td>\n",
       "    </tr>\n",
       "    <tr>\n",
       "      <th>1840</th>\n",
       "      <td>364472</td>\n",
       "      <td>393</td>\n",
       "    </tr>\n",
       "    <tr>\n",
       "      <th>1841</th>\n",
       "      <td>364788</td>\n",
       "      <td>393</td>\n",
       "    </tr>\n",
       "    <tr>\n",
       "      <th>1842</th>\n",
       "      <td>364673</td>\n",
       "      <td>393</td>\n",
       "    </tr>\n",
       "    <tr>\n",
       "      <th>1843</th>\n",
       "      <td>364626</td>\n",
       "      <td>393</td>\n",
       "    </tr>\n",
       "    <tr>\n",
       "      <th>1844</th>\n",
       "      <td>364986</td>\n",
       "      <td>393</td>\n",
       "    </tr>\n",
       "  </tbody>\n",
       "</table>\n",
       "<p>1845 rows × 2 columns</p>\n",
       "</div>"
      ],
      "text/plain": [
       "      alert_key  date\n",
       "0        352342   365\n",
       "1        352866   365\n",
       "2        352696   365\n",
       "3        352330   365\n",
       "4        352683   365\n",
       "...         ...   ...\n",
       "1840     364472   393\n",
       "1841     364788   393\n",
       "1842     364673   393\n",
       "1843     364626   393\n",
       "1844     364986   393\n",
       "\n",
       "[1845 rows x 2 columns]"
      ]
     },
     "execution_count": 93,
     "metadata": {},
     "output_type": "execute_result"
    }
   ],
   "source": [
    "p_date"
   ]
  },
  {
   "cell_type": "code",
   "execution_count": 103,
   "metadata": {},
   "outputs": [],
   "source": [
    "cinfo_test = cinfo_test.merge(p_date, on='alert_key')"
   ]
  },
  {
   "cell_type": "code",
   "execution_count": 105,
   "metadata": {},
   "outputs": [],
   "source": [
    "cinfo_test['occupation_code'].fillna(0,inplace=True)"
   ]
  },
  {
   "cell_type": "code",
   "execution_count": 9,
   "metadata": {},
   "outputs": [],
   "source": [
    "cdtx_train = pd.merge(cinfo_train, cdtx, left_on=['cust_id','date'], right_on=['cust_id','date'])\n",
    "dp_train = pd.merge(cinfo_train, dp, left_on=['cust_id','date'], right_on=['cust_id','tx_date'])\n",
    "remit_train = pd.merge(cinfo_train, remit, left_on=['cust_id','date'], right_on=['cust_id','trans_date'])"
   ]
  },
  {
   "cell_type": "code",
   "execution_count": 106,
   "metadata": {},
   "outputs": [],
   "source": [
    "cdtx_test = pd.merge(cinfo_test, cdtx, left_on=['cust_id','date'], right_on=['cust_id','date'])\n",
    "dp_test = pd.merge(cinfo_test, dp, left_on=['cust_id','date'], right_on=['cust_id','tx_date'])\n",
    "remit_test = pd.merge(cinfo_test, remit, left_on=['cust_id','date'], right_on=['cust_id','trans_date'])"
   ]
  },
  {
   "cell_type": "code",
   "execution_count": 10,
   "metadata": {},
   "outputs": [],
   "source": [
    "def db_cr2num(row):\n",
    "    return 0 if row == 'DB' else 1"
   ]
  },
  {
   "cell_type": "code",
   "execution_count": 11,
   "metadata": {},
   "outputs": [],
   "source": [
    "dp_train['debit_credit'] = dp_train['debit_credit'].apply(db_cr2num)\n",
    "dp_train['fiscTxId'].fillna(-1,inplace=True)\n",
    "dp_train['txbranch'].fillna(-1,inplace=True)"
   ]
  },
  {
   "cell_type": "code",
   "execution_count": 108,
   "metadata": {},
   "outputs": [],
   "source": [
    "dp_test['debit_credit'] = dp_test['debit_credit'].apply(db_cr2num)\n",
    "dp_test['fiscTxId'].fillna(-1,inplace=True)\n",
    "dp_test['txbranch'].fillna(-1,inplace=True)"
   ]
  },
  {
   "cell_type": "code",
   "execution_count": 12,
   "metadata": {},
   "outputs": [],
   "source": [
    "cdtx_train_new = cdtx_train[['alert_key','risk_rank','occupation_code','total_asset','AGE','country','cur_type','amt','cycam','date','sar_flag']]\n",
    "dp_train_new = dp_train[['alert_key','risk_rank','occupation_code','total_asset','AGE','debit_credit','tx_time','tx_type','tx_amt','exchg_rate','info_asset_code','fiscTxId','txbranch','cross_bank','ATM','cycam','date','sar_flag']]\n",
    "remit_train_new = remit_train[['alert_key','risk_rank','occupation_code','total_asset','AGE','trans_no','trade_amount_usd','cycam','date','sar_flag']]"
   ]
  },
  {
   "cell_type": "code",
   "execution_count": 109,
   "metadata": {},
   "outputs": [],
   "source": [
    "cdtx_test_new = cdtx_test[['alert_key','risk_rank','occupation_code','total_asset','AGE','country','cur_type','amt','cycam','date']]\n",
    "dp_test_new = dp_test[['alert_key','risk_rank','occupation_code','total_asset','AGE','debit_credit','tx_time','tx_type','tx_amt','exchg_rate','info_asset_code','fiscTxId','txbranch','cross_bank','ATM','cycam','date']]\n",
    "remit_test_new = remit_test[['alert_key','risk_rank','occupation_code','total_asset','AGE','trans_no','trade_amount_usd','cycam','date']]"
   ]
  },
  {
   "cell_type": "code",
   "execution_count": 13,
   "metadata": {},
   "outputs": [
    {
     "data": {
      "text/plain": [
       "alert_key          False\n",
       "risk_rank          False\n",
       "occupation_code    False\n",
       "total_asset        False\n",
       "AGE                False\n",
       "country            False\n",
       "cur_type           False\n",
       "amt                False\n",
       "cycam              False\n",
       "date               False\n",
       "sar_flag           False\n",
       "dtype: bool"
      ]
     },
     "execution_count": 13,
     "metadata": {},
     "output_type": "execute_result"
    }
   ],
   "source": [
    "cdtx_train_new.isna().any()"
   ]
  },
  {
   "cell_type": "code",
   "execution_count": 110,
   "metadata": {},
   "outputs": [
    {
     "data": {
      "text/plain": [
       "alert_key          False\n",
       "risk_rank          False\n",
       "occupation_code    False\n",
       "total_asset        False\n",
       "AGE                False\n",
       "country            False\n",
       "cur_type           False\n",
       "amt                False\n",
       "cycam              False\n",
       "date               False\n",
       "dtype: bool"
      ]
     },
     "execution_count": 110,
     "metadata": {},
     "output_type": "execute_result"
    }
   ],
   "source": [
    "cdtx_test_new.isna().any()"
   ]
  },
  {
   "cell_type": "code",
   "execution_count": 64,
   "metadata": {},
   "outputs": [
    {
     "data": {
      "text/plain": [
       "array([ 2., 15., 12., 17., 18.,  1.,  3., 19.,  5., 14., 13.,  9., 16.,\n",
       "       11.,  4.,  8.,  7.,  0., 10.])"
      ]
     },
     "execution_count": 64,
     "metadata": {},
     "output_type": "execute_result"
    }
   ],
   "source": [
    "cdtx_train_new['occupation_code'].unique()"
   ]
  },
  {
   "cell_type": "code",
   "execution_count": 55,
   "metadata": {},
   "outputs": [
    {
     "name": "stderr",
     "output_type": "stream",
     "text": [
      "/tmp/ipykernel_6044/4174303218.py:1: SettingWithCopyWarning: \n",
      "A value is trying to be set on a copy of a slice from a DataFrame\n",
      "\n",
      "See the caveats in the documentation: https://pandas.pydata.org/pandas-docs/stable/user_guide/indexing.html#returning-a-view-versus-a-copy\n",
      "  cdtx_train_new['occupation_code'].fillna(0,inplace=True)\n"
     ]
    }
   ],
   "source": [
    "cdtx_train_new['occupation_code'].fillna(0,inplace=True)"
   ]
  },
  {
   "cell_type": "code",
   "execution_count": 14,
   "metadata": {},
   "outputs": [
    {
     "data": {
      "text/plain": [
       "alert_key          False\n",
       "risk_rank          False\n",
       "occupation_code    False\n",
       "total_asset        False\n",
       "AGE                False\n",
       "debit_credit       False\n",
       "tx_time            False\n",
       "tx_type            False\n",
       "tx_amt              True\n",
       "exchg_rate         False\n",
       "info_asset_code    False\n",
       "fiscTxId           False\n",
       "txbranch           False\n",
       "cross_bank         False\n",
       "ATM                False\n",
       "cycam              False\n",
       "date               False\n",
       "sar_flag           False\n",
       "dtype: bool"
      ]
     },
     "execution_count": 14,
     "metadata": {},
     "output_type": "execute_result"
    }
   ],
   "source": [
    "dp_train_new.isna().any()"
   ]
  },
  {
   "cell_type": "code",
   "execution_count": 111,
   "metadata": {},
   "outputs": [
    {
     "data": {
      "text/plain": [
       "alert_key          False\n",
       "risk_rank          False\n",
       "occupation_code    False\n",
       "total_asset        False\n",
       "AGE                False\n",
       "debit_credit       False\n",
       "tx_time            False\n",
       "tx_type            False\n",
       "tx_amt              True\n",
       "exchg_rate         False\n",
       "info_asset_code    False\n",
       "fiscTxId           False\n",
       "txbranch           False\n",
       "cross_bank         False\n",
       "ATM                False\n",
       "cycam              False\n",
       "date               False\n",
       "dtype: bool"
      ]
     },
     "execution_count": 111,
     "metadata": {},
     "output_type": "execute_result"
    }
   ],
   "source": [
    "dp_test_new.isna().any()"
   ]
  },
  {
   "cell_type": "code",
   "execution_count": 15,
   "metadata": {},
   "outputs": [
    {
     "name": "stderr",
     "output_type": "stream",
     "text": [
      "/tmp/ipykernel_1161/1895521225.py:1: SettingWithCopyWarning: \n",
      "A value is trying to be set on a copy of a slice from a DataFrame\n",
      "\n",
      "See the caveats in the documentation: https://pandas.pydata.org/pandas-docs/stable/user_guide/indexing.html#returning-a-view-versus-a-copy\n",
      "  dp_train_new['tx_amt'].fillna(0,inplace=True)\n"
     ]
    }
   ],
   "source": [
    "dp_train_new['tx_amt'].fillna(0,inplace=True)"
   ]
  },
  {
   "cell_type": "code",
   "execution_count": 112,
   "metadata": {},
   "outputs": [
    {
     "name": "stderr",
     "output_type": "stream",
     "text": [
      "/tmp/ipykernel_6044/204289302.py:1: SettingWithCopyWarning: \n",
      "A value is trying to be set on a copy of a slice from a DataFrame\n",
      "\n",
      "See the caveats in the documentation: https://pandas.pydata.org/pandas-docs/stable/user_guide/indexing.html#returning-a-view-versus-a-copy\n",
      "  dp_test_new['tx_amt'].fillna(0,inplace=True)\n"
     ]
    }
   ],
   "source": [
    "dp_test_new['tx_amt'].fillna(0,inplace=True)"
   ]
  },
  {
   "cell_type": "code",
   "execution_count": 81,
   "metadata": {},
   "outputs": [
    {
     "data": {
      "text/plain": [
       "alert_key           False\n",
       "risk_rank           False\n",
       "occupation_code     False\n",
       "total_asset         False\n",
       "AGE                 False\n",
       "trans_no            False\n",
       "trade_amount_usd    False\n",
       "cycam               False\n",
       "date                False\n",
       "sar_flag            False\n",
       "dtype: bool"
      ]
     },
     "execution_count": 81,
     "metadata": {},
     "output_type": "execute_result"
    }
   ],
   "source": [
    "remit_train_new.isna().any()"
   ]
  },
  {
   "cell_type": "code",
   "execution_count": 113,
   "metadata": {},
   "outputs": [
    {
     "data": {
      "text/plain": [
       "alert_key           False\n",
       "risk_rank           False\n",
       "occupation_code     False\n",
       "total_asset         False\n",
       "AGE                 False\n",
       "trans_no            False\n",
       "trade_amount_usd    False\n",
       "cycam               False\n",
       "date                False\n",
       "dtype: bool"
      ]
     },
     "execution_count": 113,
     "metadata": {},
     "output_type": "execute_result"
    }
   ],
   "source": [
    "remit_test_new.isna().any()"
   ]
  },
  {
   "cell_type": "code",
   "execution_count": 77,
   "metadata": {},
   "outputs": [
    {
     "data": {
      "text/html": [
       "<div>\n",
       "<style scoped>\n",
       "    .dataframe tbody tr th:only-of-type {\n",
       "        vertical-align: middle;\n",
       "    }\n",
       "\n",
       "    .dataframe tbody tr th {\n",
       "        vertical-align: top;\n",
       "    }\n",
       "\n",
       "    .dataframe thead th {\n",
       "        text-align: right;\n",
       "    }\n",
       "</style>\n",
       "<table border=\"1\" class=\"dataframe\">\n",
       "  <thead>\n",
       "    <tr style=\"text-align: right;\">\n",
       "      <th></th>\n",
       "      <th>alert_key</th>\n",
       "      <th>risk_rank</th>\n",
       "      <th>occupation_code</th>\n",
       "      <th>total_asset</th>\n",
       "      <th>AGE</th>\n",
       "      <th>debit_credit</th>\n",
       "      <th>tx_time</th>\n",
       "      <th>tx_type</th>\n",
       "      <th>tx_amt</th>\n",
       "      <th>exchg_rate</th>\n",
       "      <th>info_asset_code</th>\n",
       "      <th>fiscTxId</th>\n",
       "      <th>txbranch</th>\n",
       "      <th>cross_bank</th>\n",
       "      <th>ATM</th>\n",
       "      <th>cycam</th>\n",
       "      <th>date</th>\n",
       "      <th>sar_flag</th>\n",
       "    </tr>\n",
       "  </thead>\n",
       "  <tbody>\n",
       "    <tr>\n",
       "      <th>0</th>\n",
       "      <td>172802</td>\n",
       "      <td>1</td>\n",
       "      <td>19.0</td>\n",
       "      <td>1449978.0</td>\n",
       "      <td>7</td>\n",
       "      <td>1</td>\n",
       "      <td>16</td>\n",
       "      <td>2</td>\n",
       "      <td>1038.0</td>\n",
       "      <td>3.311</td>\n",
       "      <td>20</td>\n",
       "      <td>-1.0</td>\n",
       "      <td>-1.0</td>\n",
       "      <td>0</td>\n",
       "      <td>1</td>\n",
       "      <td>0.0</td>\n",
       "      <td>6</td>\n",
       "      <td>0</td>\n",
       "    </tr>\n",
       "    <tr>\n",
       "      <th>1</th>\n",
       "      <td>172802</td>\n",
       "      <td>1</td>\n",
       "      <td>19.0</td>\n",
       "      <td>1449978.0</td>\n",
       "      <td>7</td>\n",
       "      <td>1</td>\n",
       "      <td>15</td>\n",
       "      <td>2</td>\n",
       "      <td>20902.0</td>\n",
       "      <td>33.940</td>\n",
       "      <td>20</td>\n",
       "      <td>-1.0</td>\n",
       "      <td>-1.0</td>\n",
       "      <td>0</td>\n",
       "      <td>1</td>\n",
       "      <td>0.0</td>\n",
       "      <td>6</td>\n",
       "      <td>0</td>\n",
       "    </tr>\n",
       "    <tr>\n",
       "      <th>2</th>\n",
       "      <td>172802</td>\n",
       "      <td>1</td>\n",
       "      <td>19.0</td>\n",
       "      <td>1449978.0</td>\n",
       "      <td>7</td>\n",
       "      <td>0</td>\n",
       "      <td>15</td>\n",
       "      <td>2</td>\n",
       "      <td>30119.0</td>\n",
       "      <td>33.680</td>\n",
       "      <td>20</td>\n",
       "      <td>-1.0</td>\n",
       "      <td>-1.0</td>\n",
       "      <td>0</td>\n",
       "      <td>1</td>\n",
       "      <td>0.0</td>\n",
       "      <td>6</td>\n",
       "      <td>0</td>\n",
       "    </tr>\n",
       "    <tr>\n",
       "      <th>3</th>\n",
       "      <td>172802</td>\n",
       "      <td>1</td>\n",
       "      <td>19.0</td>\n",
       "      <td>1449978.0</td>\n",
       "      <td>7</td>\n",
       "      <td>0</td>\n",
       "      <td>19</td>\n",
       "      <td>2</td>\n",
       "      <td>26701.0</td>\n",
       "      <td>28.405</td>\n",
       "      <td>20</td>\n",
       "      <td>-1.0</td>\n",
       "      <td>-1.0</td>\n",
       "      <td>0</td>\n",
       "      <td>1</td>\n",
       "      <td>0.0</td>\n",
       "      <td>6</td>\n",
       "      <td>0</td>\n",
       "    </tr>\n",
       "    <tr>\n",
       "      <th>4</th>\n",
       "      <td>172802</td>\n",
       "      <td>1</td>\n",
       "      <td>19.0</td>\n",
       "      <td>1449978.0</td>\n",
       "      <td>7</td>\n",
       "      <td>1</td>\n",
       "      <td>16</td>\n",
       "      <td>2</td>\n",
       "      <td>415.0</td>\n",
       "      <td>28.435</td>\n",
       "      <td>20</td>\n",
       "      <td>-1.0</td>\n",
       "      <td>-1.0</td>\n",
       "      <td>0</td>\n",
       "      <td>1</td>\n",
       "      <td>0.0</td>\n",
       "      <td>6</td>\n",
       "      <td>0</td>\n",
       "    </tr>\n",
       "    <tr>\n",
       "      <th>...</th>\n",
       "      <td>...</td>\n",
       "      <td>...</td>\n",
       "      <td>...</td>\n",
       "      <td>...</td>\n",
       "      <td>...</td>\n",
       "      <td>...</td>\n",
       "      <td>...</td>\n",
       "      <td>...</td>\n",
       "      <td>...</td>\n",
       "      <td>...</td>\n",
       "      <td>...</td>\n",
       "      <td>...</td>\n",
       "      <td>...</td>\n",
       "      <td>...</td>\n",
       "      <td>...</td>\n",
       "      <td>...</td>\n",
       "      <td>...</td>\n",
       "      <td>...</td>\n",
       "    </tr>\n",
       "    <tr>\n",
       "      <th>164025</th>\n",
       "      <td>352111</td>\n",
       "      <td>1</td>\n",
       "      <td>17.0</td>\n",
       "      <td>829412.0</td>\n",
       "      <td>6</td>\n",
       "      <td>0</td>\n",
       "      <td>1</td>\n",
       "      <td>2</td>\n",
       "      <td>3234.0</td>\n",
       "      <td>1.000</td>\n",
       "      <td>16</td>\n",
       "      <td>-1.0</td>\n",
       "      <td>-1.0</td>\n",
       "      <td>0</td>\n",
       "      <td>0</td>\n",
       "      <td>523405.0</td>\n",
       "      <td>364</td>\n",
       "      <td>0</td>\n",
       "    </tr>\n",
       "    <tr>\n",
       "      <th>164026</th>\n",
       "      <td>352111</td>\n",
       "      <td>1</td>\n",
       "      <td>17.0</td>\n",
       "      <td>829412.0</td>\n",
       "      <td>6</td>\n",
       "      <td>0</td>\n",
       "      <td>12</td>\n",
       "      <td>2</td>\n",
       "      <td>2987.0</td>\n",
       "      <td>1.000</td>\n",
       "      <td>12</td>\n",
       "      <td>-1.0</td>\n",
       "      <td>-1.0</td>\n",
       "      <td>0</td>\n",
       "      <td>0</td>\n",
       "      <td>523405.0</td>\n",
       "      <td>364</td>\n",
       "      <td>0</td>\n",
       "    </tr>\n",
       "    <tr>\n",
       "      <th>164027</th>\n",
       "      <td>352111</td>\n",
       "      <td>1</td>\n",
       "      <td>17.0</td>\n",
       "      <td>829412.0</td>\n",
       "      <td>6</td>\n",
       "      <td>0</td>\n",
       "      <td>1</td>\n",
       "      <td>2</td>\n",
       "      <td>719.0</td>\n",
       "      <td>1.000</td>\n",
       "      <td>16</td>\n",
       "      <td>-1.0</td>\n",
       "      <td>-1.0</td>\n",
       "      <td>0</td>\n",
       "      <td>0</td>\n",
       "      <td>523405.0</td>\n",
       "      <td>364</td>\n",
       "      <td>0</td>\n",
       "    </tr>\n",
       "    <tr>\n",
       "      <th>164028</th>\n",
       "      <td>352111</td>\n",
       "      <td>1</td>\n",
       "      <td>17.0</td>\n",
       "      <td>829412.0</td>\n",
       "      <td>6</td>\n",
       "      <td>0</td>\n",
       "      <td>12</td>\n",
       "      <td>2</td>\n",
       "      <td>570.0</td>\n",
       "      <td>1.000</td>\n",
       "      <td>12</td>\n",
       "      <td>-1.0</td>\n",
       "      <td>-1.0</td>\n",
       "      <td>0</td>\n",
       "      <td>0</td>\n",
       "      <td>523405.0</td>\n",
       "      <td>364</td>\n",
       "      <td>0</td>\n",
       "    </tr>\n",
       "    <tr>\n",
       "      <th>164029</th>\n",
       "      <td>352111</td>\n",
       "      <td>1</td>\n",
       "      <td>17.0</td>\n",
       "      <td>829412.0</td>\n",
       "      <td>6</td>\n",
       "      <td>0</td>\n",
       "      <td>12</td>\n",
       "      <td>2</td>\n",
       "      <td>708.0</td>\n",
       "      <td>1.000</td>\n",
       "      <td>12</td>\n",
       "      <td>-1.0</td>\n",
       "      <td>-1.0</td>\n",
       "      <td>0</td>\n",
       "      <td>0</td>\n",
       "      <td>523405.0</td>\n",
       "      <td>364</td>\n",
       "      <td>0</td>\n",
       "    </tr>\n",
       "  </tbody>\n",
       "</table>\n",
       "<p>164030 rows × 18 columns</p>\n",
       "</div>"
      ],
      "text/plain": [
       "        alert_key  risk_rank  occupation_code  total_asset  AGE  debit_credit  \\\n",
       "0          172802          1             19.0    1449978.0    7             1   \n",
       "1          172802          1             19.0    1449978.0    7             1   \n",
       "2          172802          1             19.0    1449978.0    7             0   \n",
       "3          172802          1             19.0    1449978.0    7             0   \n",
       "4          172802          1             19.0    1449978.0    7             1   \n",
       "...           ...        ...              ...          ...  ...           ...   \n",
       "164025     352111          1             17.0     829412.0    6             0   \n",
       "164026     352111          1             17.0     829412.0    6             0   \n",
       "164027     352111          1             17.0     829412.0    6             0   \n",
       "164028     352111          1             17.0     829412.0    6             0   \n",
       "164029     352111          1             17.0     829412.0    6             0   \n",
       "\n",
       "        tx_time  tx_type   tx_amt  exchg_rate  info_asset_code  fiscTxId  \\\n",
       "0            16        2   1038.0       3.311               20      -1.0   \n",
       "1            15        2  20902.0      33.940               20      -1.0   \n",
       "2            15        2  30119.0      33.680               20      -1.0   \n",
       "3            19        2  26701.0      28.405               20      -1.0   \n",
       "4            16        2    415.0      28.435               20      -1.0   \n",
       "...         ...      ...      ...         ...              ...       ...   \n",
       "164025        1        2   3234.0       1.000               16      -1.0   \n",
       "164026       12        2   2987.0       1.000               12      -1.0   \n",
       "164027        1        2    719.0       1.000               16      -1.0   \n",
       "164028       12        2    570.0       1.000               12      -1.0   \n",
       "164029       12        2    708.0       1.000               12      -1.0   \n",
       "\n",
       "        txbranch  cross_bank  ATM     cycam  date  sar_flag  \n",
       "0           -1.0           0    1       0.0     6         0  \n",
       "1           -1.0           0    1       0.0     6         0  \n",
       "2           -1.0           0    1       0.0     6         0  \n",
       "3           -1.0           0    1       0.0     6         0  \n",
       "4           -1.0           0    1       0.0     6         0  \n",
       "...          ...         ...  ...       ...   ...       ...  \n",
       "164025      -1.0           0    0  523405.0   364         0  \n",
       "164026      -1.0           0    0  523405.0   364         0  \n",
       "164027      -1.0           0    0  523405.0   364         0  \n",
       "164028      -1.0           0    0  523405.0   364         0  \n",
       "164029      -1.0           0    0  523405.0   364         0  \n",
       "\n",
       "[164030 rows x 18 columns]"
      ]
     },
     "execution_count": 77,
     "metadata": {},
     "output_type": "execute_result"
    }
   ],
   "source": [
    "dp_train_new"
   ]
  },
  {
   "cell_type": "code",
   "execution_count": 82,
   "metadata": {},
   "outputs": [],
   "source": [
    "cdtx_train_new.to_csv('/home/bill/moneylaundring/contest/processed_dataset/cdtx_train.csv',index=False)"
   ]
  },
  {
   "cell_type": "code",
   "execution_count": 83,
   "metadata": {},
   "outputs": [],
   "source": [
    "dp_train_new.to_csv('/home/bill/moneylaundring/contest/processed_dataset/dp_train.csv',index=False)\n",
    "remit_train_new.to_csv('/home/bill/moneylaundring/contest/processed_dataset/remit_train.csv',index=False)"
   ]
  },
  {
   "cell_type": "code",
   "execution_count": 114,
   "metadata": {},
   "outputs": [],
   "source": [
    "cdtx_test_new.to_csv('/home/bill/moneylaundring/contest/processed_dataset/cdtx_test.csv',index=False)"
   ]
  },
  {
   "cell_type": "code",
   "execution_count": 115,
   "metadata": {},
   "outputs": [],
   "source": [
    "dp_test_new.to_csv('/home/bill/moneylaundring/contest/processed_dataset/dp_test.csv',index=False)\n",
    "remit_test_new.to_csv('/home/bill/moneylaundring/contest/processed_dataset/remit_test.csv',index=False)"
   ]
  }
 ],
 "metadata": {
  "kernelspec": {
   "display_name": "moneylaundring",
   "language": "python",
   "name": "python3"
  },
  "language_info": {
   "codemirror_mode": {
    "name": "ipython",
    "version": 3
   },
   "file_extension": ".py",
   "mimetype": "text/x-python",
   "name": "python",
   "nbconvert_exporter": "python",
   "pygments_lexer": "ipython3",
   "version": "3.10.8 (main, Nov 24 2022, 14:13:03) [GCC 11.2.0]"
  },
  "orig_nbformat": 4,
  "vscode": {
   "interpreter": {
    "hash": "e1f3c677c2d4c7a39031d80eea489745965d64e900ff6f66e2eb9b80cdb99d6c"
   }
  }
 },
 "nbformat": 4,
 "nbformat_minor": 2
}
